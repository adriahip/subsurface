{
  "cells": [
    {
      "cell_type": "code",
      "execution_count": null,
      "metadata": {
        "collapsed": false
      },
      "outputs": [],
      "source": [
        "%matplotlib inline\nfrom pyvista import set_plot_theme\nset_plot_theme('document')"
      ]
    },
    {
      "cell_type": "markdown",
      "metadata": {},
      "source": [
        "\n# Reading Well Data into Subsurface\n"
      ]
    },
    {
      "cell_type": "markdown",
      "metadata": {},
      "source": [
        "Authors: Miguel de la Varga and Alexander Juestel\n\n"
      ]
    },
    {
      "cell_type": "code",
      "execution_count": null,
      "metadata": {
        "collapsed": false
      },
      "outputs": [],
      "source": [
        "# This example will get into detail about how we are using `welly` and `striplog` to\n# import borehole data.\n\n# We start by using pooch to download the dataset into a temp file;"
      ]
    },
    {
      "cell_type": "markdown",
      "metadata": {},
      "source": [
        "import pooch\n\nfrom dataclasses import asdict\nimport matplotlib.pyplot as plt\nfrom striplog import Component\n\nimport subsurface as sb\nfrom subsurface.reader import ReaderFilesHelper\nfrom subsurface.reader.wells import read_collar, read_survey, read_lith, WellyToSubsurfaceHelper, welly_to_subsurface\nfrom subsurface.structs.base_structures.common_data_utils import to_netcdf\n\nbase_url = \"https://raw.githubusercontent.com/softwareunderground/subsurface/main/tests/data/borehole/\"\n\ndata_hash = \"55d58e1e1ed22509579d46f736fa5f07f4428c6744bd16dbd919242d14348da7\"\nraw_borehole_data_csv = pooch.retrieve(url=base_url + 'kim_ready.csv',\n                                       known_hash=data_hash)\n# %% md\n# This dataset consist on a csv file containing the following columns: x, y, name, num, z, year, 7,8,9, altitude, base,\n# formation, top, _top_abs and md. This is a good example of how varied borehole data can be provided. We will\n# need to be able to extract specific information to construct the `subsurface` object.\n\n# To read csv we are using `pandas` but since `pandas.read_csv` has a lot of arguments, we have created some\n# helper classes to facilitate the reading of the data for this specific context. These *Helpers* are just a python\n# data class with a bit of funcitonality for setter and getter.\n\n# Also since well data sometimes is given in multiple files - for collars, asseys and surveys - we will read those\n# subset of the data into its own `pandas.Dataframe`. Let's start:\n\n# %%\n\nreading_collars = ReaderFilesHelper(\n    file_or_buffer=raw_borehole_data_csv,  # Path to file\n    index_col=\"name\",  # Column used as index\n    usecols=['x', 'y', 'altitude', \"name\"]  # Specific columns for collar\n)\n\n# We can see the fields from the class easily converting it to a dict\nasdict(reading_collars)\n\n# %% md\n# The rest of fields of ReaderFilesHelper would be used for different .csv configurations. With a `ReaderFilesHelper`\n# we can use it for specific functions to read the file into pandas:\n\n# %%\ncollar = read_collar(reading_collars)\ncollar\n\n# %% md\n# We do the same for survey and lithologies:\n\n# %%\nsurvey = read_survey(\n    ReaderFilesHelper(\n        file_or_buffer=raw_borehole_data_csv,\n        index_col=\"name\",\n        usecols=[\"name\", \"md\"]\n    )\n)\nsurvey\n\n# %%\nlith = read_lith(\n    ReaderFilesHelper(\n        file_or_buffer=raw_borehole_data_csv,\n        usecols=['name', 'top', 'base', 'formation'],\n        columns_map={'top': 'top',\n                     'base': 'base',\n                     'formation': 'component lith',\n                     }\n    )\n)\n\nlith\n\n# %% md\n# At this point we have all the necessary data in `pandas.Dataframe`. However, to construct a `subsurface.UnstructuredData`\n# object we are going to need to convert the data to the usual scheme of: *vertex*, *cells*, *vertex_attr* and *cells_attr*.\n# To do this we will use `welly` and `striplog`\n#\n# Welly is a family of classes to facilitate the loading, processing, and analysis of subsurface wells and well data,\n# such as striplogs, formation tops, well log curves, and synthetic seismograms.\n#\n# The class WellyToSubsurfaceHelper contains the methods to create a welly project and export it to a subsurface data class.\n\n# %%\nwts = WellyToSubsurfaceHelper(collar_df=collar, survey_df=survey, lith_df=lith)\n\n# %% md\n# In the field p is stored a welly project\n# (https://github.com/agile-geoscience/welly/blob/master/tutorial/04_Project.ipynb) and we can use it to explore\n# and visualize properties of each well.\n\n# %%\nwts.p\n\n# %%\nstripLog = wts.p[0].data['lith']\nstripLog\n\n# %%\nstripLog.plot()\nplt.gcf()\n\n# %% md\n# Once we have the `WellyToSubsurfaceHelper` the function `welly_to_subsurface` will directly convert the objet to\n# `subsurface.UnstructuredData` -- using the trajectory module of `welly`.\n\n# %%\nformations = [\"topo\", \"etchegoin\", \"macoma\", \"chanac\", \"mclure\",\n              \"santa_margarita\", \"fruitvale\",\n              \"round_mountain\", \"olcese\", \"freeman_jewett\", \"vedder\", \"eocene\",\n              \"cretaceous\",\n              \"basement\", \"null\"]\n\nunstruct = welly_to_subsurface(\n    wts,\n    table=[Component({'lith': l}) for l in formations] # This is to keep the lithology ids constant across all the wells\n)\nunstruct\n\n# %%\n# We can save the data into a netcdf by simply calling\nto_netcdf(unstruct, \"wells_unstructured_temp.nc\")\n\n# %% md\n# We are done. Now the well data is a `subsurface.UnstructuredData` and can be used as usual.\n\n# %%\nelement = sb.LineSet(unstruct)\npyvista_mesh = sb.visualization.to_pyvista_line(element, radius=50)\n\n# Plot default LITH\ninteractive_plot =sb.visualization.pv_plot([pyvista_mesh])\n\n\n"
      ]
    }
  ],
  "metadata": {
    "kernelspec": {
      "display_name": "Python 3",
      "language": "python",
      "name": "python3"
    },
    "language_info": {
      "codemirror_mode": {
        "name": "ipython",
        "version": 3
      },
      "file_extension": ".py",
      "mimetype": "text/x-python",
      "name": "python",
      "nbconvert_exporter": "python",
      "pygments_lexer": "ipython3",
      "version": "3.8.12"
    }
  },
  "nbformat": 4,
  "nbformat_minor": 0
}