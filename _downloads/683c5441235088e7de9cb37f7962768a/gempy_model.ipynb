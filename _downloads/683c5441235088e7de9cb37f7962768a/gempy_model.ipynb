{
  "cells": [
    {
      "cell_type": "code",
      "execution_count": null,
      "metadata": {
        "collapsed": false
      },
      "outputs": [],
      "source": [
        "%matplotlib inline\nfrom pyvista import set_plot_theme\nset_plot_theme('document')"
      ]
    },
    {
      "cell_type": "markdown",
      "metadata": {},
      "source": [
        "\n# Reading Simple GemPy model in Subsurface\n"
      ]
    },
    {
      "cell_type": "code",
      "execution_count": null,
      "metadata": {
        "collapsed": false
      },
      "outputs": [],
      "source": [
        "#\n# import sys\n#\n# sys.path.insert(0, 'subsurface/')\n# import pooch\n# import subsurface as ss\n# import subsurface.reader.read_netcdf\n#\n# # %% md\n# # Single surface\n# # --------------\n#\n# # Pull gempy model\n# model_files = pooch.retrieve(\n#     url=\"https://github.com/cgre-aachen/gempy_data/raw/master/\"\n#         \"data/subsurface/example1.zip\",\n#     known_hash=\"fb79a63eeb874cf0cdca557106c62c67eace23811db5935e57c3448fed7f8978\",\n#     processor=pooch.Unzip()\n# )\n#\n# # %%\n# fname, = [i for i in model_files if \"meshes.nc\" in i]\n# dataset = ss.reader.read_netcdf.read_unstruct(fname)\n#\n# # %%\n# obj = ss.TriSurf(dataset)\n# print(obj.mesh.points_attributes_to_dict)\n#\n# mesh = ss.visualization.to_pyvista_mesh(obj)\n# ss.visualization.pv_plot([mesh])\n#\n#\n# # %% md\n# # Four Layers\n# # -----------\n#\n# # Pull gempy model\n# model_files_2 = pooch.retrieve(\n#     url=\"https://github.com/cgre-aachen/gempy_data/raw/master/data/gempy_models/Kim.zip\",\n#     known_hash=\"f530a88351ed0e38673c6937161c59a2f69df92202e14c1e5d5729ed5d72a323\",\n#     processor=pooch.Unzip()\n# )\n#\n# # %% md\n# # Triangular meshes\n# # +++++++++++++++++\n#\n# # %%\n# fname, = [i for i in model_files_2 if \"meshes.nc\" in i]\n# gempy_tri_mesh_unstruct =  ss.reader.read_netcdf.read_unstruct(fname)\n# tri_surf = ss.TriSurf(gempy_tri_mesh_unstruct)\n# mesh = ss.visualization.to_pyvista_mesh(tri_surf)\n# ss.visualization.pv_plot([mesh])\n#\n# # %% md\n# # Regular grid\n# # ++++++++++++\n#\n# fname, = [i for i in model_files_2 if \"regular_grid.nc\" in i]\n# gempy_struct = ss.reader.read_netcdf.read_struct(fname)\n# regular_grid = ss.StructuredGrid(gempy_struct)\n#\n# # %%\n# pyvista_mesh = ss.visualization.to_pyvista_grid(regular_grid,\n#                                                 data_set_name='property_matrix',\n#                                                 attribute_slice={'Properties': 'id'}\n#                                                 )\n#\n# ss.visualization.pv_plot([pyvista_mesh])\n#\n#\n#\n#\n# # %%\n#\n# pyvista_mesh = ss.visualization.to_pyvista_grid(regular_grid,\n#                                                 data_set_name='block_matrix',\n#                                                 attribute_slice={'Properties': 'id',\n#                                                                  'Features': 'Default series'})\n#\n# ss.visualization.pv_plot([pyvista_mesh])"
      ]
    }
  ],
  "metadata": {
    "kernelspec": {
      "display_name": "Python 3",
      "language": "python",
      "name": "python3"
    },
    "language_info": {
      "codemirror_mode": {
        "name": "ipython",
        "version": 3
      },
      "file_extension": ".py",
      "mimetype": "text/x-python",
      "name": "python",
      "nbconvert_exporter": "python",
      "pygments_lexer": "ipython3",
      "version": "3.8.12"
    }
  },
  "nbformat": 4,
  "nbformat_minor": 0
}