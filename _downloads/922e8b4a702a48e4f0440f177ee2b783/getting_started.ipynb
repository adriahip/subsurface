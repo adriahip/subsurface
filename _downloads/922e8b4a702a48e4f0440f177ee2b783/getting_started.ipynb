{
  "cells": [
    {
      "cell_type": "code",
      "execution_count": null,
      "metadata": {
        "collapsed": false
      },
      "outputs": [],
      "source": [
        "%matplotlib inline\nfrom pyvista import set_plot_theme\nset_plot_theme('document')"
      ]
    },
    {
      "cell_type": "markdown",
      "metadata": {},
      "source": [
        "\n# Getting started\n"
      ]
    },
    {
      "cell_type": "markdown",
      "metadata": {},
      "source": [
        "Authors: Miguel de la Varga and Alexander Juestel\n\nThis example shows how to read into subsurface structures a bunch of different\ndata such as:\n\n- well data -> from csv all in one single file\n\n- topography -> from tif\n\n- Cross sections with textures from trace -> shp, png\n\n- Exported gempy model from netcdf\n\n"
      ]
    },
    {
      "cell_type": "code",
      "execution_count": null,
      "metadata": {
        "collapsed": false
      },
      "outputs": [],
      "source": [
        "import shutil\nimport pandas as pd\n\nimport subsurface as ss\nimport pooch"
      ]
    },
    {
      "cell_type": "markdown",
      "metadata": {},
      "source": [
        "## Read wells:\nWe can read well data - using welly as the backend. First we need to have the\ndata in the right format for digesting.\n\n"
      ]
    },
    {
      "cell_type": "code",
      "execution_count": null,
      "metadata": {
        "collapsed": false
      },
      "outputs": [],
      "source": [
        "# Pulling data example\nimport subsurface.reader.profiles.profiles_core\nimport subsurface.reader.read_netcdf\nimport subsurface.reader.topography.topo_core\nimport subsurface.reader.wells.wells_api\nfrom subsurface.reader.wells.wells_api import read_wells_to_unstruct, borehole_location_to_unstruct\nfrom subsurface.reader.readers_data import ReaderWellsHelper, ReaderFilesHelper\nfrom subsurface.structs.base_structures.common_data_utils import replace_outliers\n\nmodel_file = pooch.retrieve(\n    url=\"https://github.com/cgre-aachen/gempy_data/raw/master/\"\n        \"data/subsurface/example1.zip\",\n    known_hash=None\n)\n\ndata_path = model_file[:-4]\nshutil.unpack_archive(model_file, extract_dir=model_file[:-4])\n\n# Read original file\nori_wells = pd.read_csv(data_path + '/wells.csv')\n\n# Add top and base columns\nwells_fixed = ss.reader.wells.add_tops_from_base_and_altitude_in_place(\n    ori_wells,\n    'Index',\n    'Z',\n    'Altitude'\n)\n\nwells_fixed['md'] = wells_fixed['top']\nwells_fixed.to_csv(data_path + '/wells.csv')\nwells_fixed"
      ]
    },
    {
      "cell_type": "markdown",
      "metadata": {},
      "source": [
        "Now we can read the csv files into subsurface.UnstructuredData\n\n"
      ]
    },
    {
      "cell_type": "markdown",
      "metadata": {},
      "source": [
        "To help loading files we can use the following helper dataclass\n\n"
      ]
    },
    {
      "cell_type": "code",
      "execution_count": null,
      "metadata": {
        "collapsed": false
      },
      "outputs": [],
      "source": [
        "reader_collars_helper = ReaderFilesHelper(file_or_buffer=data_path + '/wells.csv',\n                                          usecols=['Index', 'X', 'Y', 'Altitude'], header=0)\nreader_collars_helper"
      ]
    },
    {
      "cell_type": "code",
      "execution_count": null,
      "metadata": {
        "collapsed": false
      },
      "outputs": [],
      "source": [
        "reader_wells_helper = ReaderWellsHelper(\n    reader_collars_args=reader_collars_helper,\n    reader_survey_args=ReaderFilesHelper(\n        file_or_buffer=data_path + '/wells.csv',\n        index_col=\"Index\",\n        usecols=['Index', 'md']\n    ),\n    reader_lith_args=ReaderFilesHelper(\n        file_or_buffer=data_path + '/wells.csv',\n        index_col=\"Index\",\n        columns_map={'top': 'top', 'base': 'base', 'formation': 'component lith'},\n        usecols=['Index', 'top', 'base', 'formation']\n    )\n)\nreader_wells_helper"
      ]
    },
    {
      "cell_type": "code",
      "execution_count": null,
      "metadata": {
        "collapsed": false
      },
      "outputs": [],
      "source": [
        "wells_unstructured_data = read_wells_to_unstruct(reader_wells_helper)"
      ]
    },
    {
      "cell_type": "code",
      "execution_count": null,
      "metadata": {
        "collapsed": false
      },
      "outputs": [],
      "source": [
        "wells_unstructured_data"
      ]
    },
    {
      "cell_type": "markdown",
      "metadata": {},
      "source": [
        "From UnstructuredData we can create geometric objects such a lines, points, meshes,\netc. In the case of boreholes `subsurface.LineSet` is the most suitable geometric\nrepresentation.\n\n"
      ]
    },
    {
      "cell_type": "code",
      "execution_count": null,
      "metadata": {
        "collapsed": false
      },
      "outputs": [],
      "source": [
        "wells_element = ss.LineSet(wells_unstructured_data)"
      ]
    },
    {
      "cell_type": "markdown",
      "metadata": {},
      "source": [
        "All elements in subsurface have their direct link to a pyvista mesh. This\ntransformation can be done by the functions `to_pyvista_...`.\n\n"
      ]
    },
    {
      "cell_type": "code",
      "execution_count": null,
      "metadata": {
        "collapsed": false
      },
      "outputs": [],
      "source": [
        "# Pyvista mesh\nwells_mesh = ss.visualization.to_pyvista_line(wells_element, radius=50)\n\n# Plotting\nss.visualization.pv_plot(\n    [wells_mesh],\n    image_2d=False,\n    ve=5\n)"
      ]
    },
    {
      "cell_type": "markdown",
      "metadata": {},
      "source": [
        "We can do the same for point data, for example the borehole location.\n\n"
      ]
    },
    {
      "cell_type": "code",
      "execution_count": null,
      "metadata": {
        "collapsed": false
      },
      "outputs": [],
      "source": [
        "# UnstructuredData\nborehole_location_struct = borehole_location_to_unstruct(\n    ReaderFilesHelper(\n        file_or_buffer=data_path + '/wells.csv',\n        usecols=['Index', 'X', 'Y', 'Altitude'],\n        header=0,\n        columns_map={'X': 'x', 'Y': 'y', 'Altitude': 'altitude'}\n    )\n)\nborehole_location_struct"
      ]
    },
    {
      "cell_type": "markdown",
      "metadata": {},
      "source": [
        "Element\n\n"
      ]
    },
    {
      "cell_type": "code",
      "execution_count": null,
      "metadata": {
        "collapsed": false
      },
      "outputs": [],
      "source": [
        "borehole_location_point_set = ss.PointSet(borehole_location_struct)\nborehole_location_point_set"
      ]
    },
    {
      "cell_type": "markdown",
      "metadata": {},
      "source": [
        "Pyvista mesh\n\n"
      ]
    },
    {
      "cell_type": "code",
      "execution_count": null,
      "metadata": {
        "collapsed": false
      },
      "outputs": [],
      "source": [
        "borehole_loc_mesh = ss.visualization.to_pyvista_points(borehole_location_point_set)\nborehole_loc_mesh"
      ]
    },
    {
      "cell_type": "code",
      "execution_count": null,
      "metadata": {
        "collapsed": false
      },
      "outputs": [],
      "source": [
        "ss.visualization.pv_plot([borehole_loc_mesh], image_2d=False, ve=5)"
      ]
    },
    {
      "cell_type": "markdown",
      "metadata": {},
      "source": [
        "## Read Topography\n\n"
      ]
    },
    {
      "cell_type": "code",
      "execution_count": null,
      "metadata": {
        "collapsed": false
      },
      "outputs": [],
      "source": [
        "# StructuredData\ntopo_structured_data = subsurface.reader.topography.topo_core.read_structured_topography(data_path + '/DEM50.tif')\ntopo_structured_data"
      ]
    },
    {
      "cell_type": "markdown",
      "metadata": {},
      "source": [
        "Remove outliers\n\n"
      ]
    },
    {
      "cell_type": "code",
      "execution_count": null,
      "metadata": {
        "collapsed": false
      },
      "outputs": [],
      "source": [
        "replace_outliers(topo_structured_data, 'topography', 0.98)\n\n# Element\ntopo_element = ss.structs.StructuredGrid(topo_structured_data)\ntopo_element\n\n# Pyvista mesh\ntopo_mesh = ss.visualization.to_pyvista_grid(topo_element, 'topography',\n                                             data_order='C')"
      ]
    },
    {
      "cell_type": "code",
      "execution_count": null,
      "metadata": {
        "collapsed": false
      },
      "outputs": [],
      "source": [
        "ss.visualization.pv_plot([topo_mesh], image_2d=False, ve=5)"
      ]
    },
    {
      "cell_type": "markdown",
      "metadata": {},
      "source": [
        "## Read Profiles\n\n"
      ]
    },
    {
      "cell_type": "code",
      "execution_count": null,
      "metadata": {
        "collapsed": false
      },
      "outputs": [],
      "source": [
        "profiles_traces = subsurface.reader.profiles.profiles_core.lineset_from_trace(\n    data_path + '/Profiles_cropped/Profile_PyVista.shp',\n    idx=range(13)\n)"
      ]
    },
    {
      "cell_type": "code",
      "execution_count": null,
      "metadata": {
        "collapsed": false
      },
      "outputs": [],
      "source": [
        "profiles_trisurf_list, profiles_mesh_list = subsurface.reader.profiles.profiles_core.create_tri_surf_from_traces_texture(\n    data_path + '/Profiles_cropped/Profile_PyVista.shp',\n    path_to_texture=[\n        data_path + '/Profiles_cropped/profile001.png',\n        data_path + '/Profiles_cropped/profile002.png',\n        data_path + '/Profiles_cropped/profile003.png',\n        data_path + '/Profiles_cropped/profile004.png',\n        data_path + '/Profiles_cropped/profile005.png',\n        data_path + '/Profiles_cropped/profile006.png',\n        data_path + '/Profiles_cropped/profile007.png',\n        data_path + '/Profiles_cropped/profile008.png',\n        data_path + '/Profiles_cropped/profile009.png',\n        data_path + '/Profiles_cropped/profile010.png',\n        data_path + '/Profiles_cropped/profile011.png',\n        data_path + '/Profiles_cropped/profile012.png',\n        data_path + '/Profiles_cropped/profile013.png',\n    ],\n    idx=range(13),\n    return_mesh=True,\n    return_uv=True\n)"
      ]
    },
    {
      "cell_type": "code",
      "execution_count": null,
      "metadata": {
        "collapsed": false
      },
      "outputs": [],
      "source": [
        "ss.visualization.pv_plot(profiles_mesh_list, image_2d=False, ve=5)"
      ]
    },
    {
      "cell_type": "markdown",
      "metadata": {},
      "source": [
        "## GemPy Mesh\n\n"
      ]
    },
    {
      "cell_type": "markdown",
      "metadata": {},
      "source": [
        "UnstructuredData\n\n"
      ]
    },
    {
      "cell_type": "code",
      "execution_count": null,
      "metadata": {
        "collapsed": false
      },
      "outputs": [],
      "source": [
        "gempy_unstructured_data = subsurface.reader.read_netcdf.read_unstruct(data_path + '/meshes.nc')\n\n# Element\ntrisurf_gempy = ss.TriSurf(gempy_unstructured_data)\n\n# Pyvista mesh\ngempy_mesh = ss.visualization.to_pyvista_mesh(trisurf_gempy)"
      ]
    },
    {
      "cell_type": "code",
      "execution_count": null,
      "metadata": {
        "collapsed": false
      },
      "outputs": [],
      "source": [
        "ss.visualization.pv_plot(\n    [gempy_mesh],\n    image_2d=False,\n    ve=5\n)"
      ]
    },
    {
      "cell_type": "markdown",
      "metadata": {},
      "source": [
        "sphinx_gallery_thumbnail_number = 6\n\n"
      ]
    },
    {
      "cell_type": "markdown",
      "metadata": {},
      "source": [
        "## Export to binary\n\n"
      ]
    },
    {
      "cell_type": "code",
      "execution_count": null,
      "metadata": {
        "collapsed": false
      },
      "outputs": [],
      "source": [
        "subsurface.writer.to_binary.base_structs_to_binary_file(data_path + '/wells',\n                                                        wells_unstructured_data)\nsubsurface.writer.to_binary.base_structs_to_binary_file(data_path + '/topo',\n                                                        topo_structured_data)\nsubsurface.writer.to_binary.base_structs_to_binary_file(data_path + '/collars',\n                                                        borehole_location_struct)\n\nfor e, tri_surf in enumerate(profiles_trisurf_list):\n    subsurface.writer.to_binary.base_structs_to_binary_file(data_path + f'/profile_{e}_mesh',\n                                                            tri_surf.mesh)\n    subsurface.writer.to_binary.base_structs_to_binary_file(\n        data_path + f'/profile_{e}_texture_C',\n        tri_surf.texture,\n        order='C')"
      ]
    }
  ],
  "metadata": {
    "kernelspec": {
      "display_name": "Python 3",
      "language": "python",
      "name": "python3"
    },
    "language_info": {
      "codemirror_mode": {
        "name": "ipython",
        "version": 3
      },
      "file_extension": ".py",
      "mimetype": "text/x-python",
      "name": "python",
      "nbconvert_exporter": "python",
      "pygments_lexer": "ipython3",
      "version": "3.8.12"
    }
  },
  "nbformat": 4,
  "nbformat_minor": 0
}